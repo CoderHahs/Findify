{
 "cells": [
  {
   "cell_type": "code",
   "execution_count": 1,
   "metadata": {},
   "outputs": [
    {
     "data": {
      "text/html": [
       "<div>\n",
       "<style scoped>\n",
       "    .dataframe tbody tr th:only-of-type {\n",
       "        vertical-align: middle;\n",
       "    }\n",
       "\n",
       "    .dataframe tbody tr th {\n",
       "        vertical-align: top;\n",
       "    }\n",
       "\n",
       "    .dataframe thead th {\n",
       "        text-align: right;\n",
       "    }\n",
       "</style>\n",
       "<table border=\"1\" class=\"dataframe\">\n",
       "  <thead>\n",
       "    <tr style=\"text-align: right;\">\n",
       "      <th></th>\n",
       "      <th>artists</th>\n",
       "      <th>acousticness</th>\n",
       "      <th>danceability</th>\n",
       "      <th>duration_ms</th>\n",
       "      <th>energy</th>\n",
       "      <th>instrumentalness</th>\n",
       "      <th>liveness</th>\n",
       "      <th>loudness</th>\n",
       "      <th>speechiness</th>\n",
       "      <th>tempo</th>\n",
       "      <th>valence</th>\n",
       "      <th>popularity</th>\n",
       "      <th>key</th>\n",
       "      <th>mode</th>\n",
       "      <th>count</th>\n",
       "    </tr>\n",
       "  </thead>\n",
       "  <tbody>\n",
       "    <tr>\n",
       "      <td>6476</td>\n",
       "      <td>Drake</td>\n",
       "      <td>0.204738</td>\n",
       "      <td>0.675475</td>\n",
       "      <td>245906.041667</td>\n",
       "      <td>0.584922</td>\n",
       "      <td>0.004319</td>\n",
       "      <td>0.18873</td>\n",
       "      <td>-7.432773</td>\n",
       "      <td>0.213651</td>\n",
       "      <td>118.708009</td>\n",
       "      <td>0.386488</td>\n",
       "      <td>61.784091</td>\n",
       "      <td>1</td>\n",
       "      <td>1</td>\n",
       "      <td>528</td>\n",
       "    </tr>\n",
       "  </tbody>\n",
       "</table>\n",
       "</div>"
      ],
      "text/plain": [
       "     artists  acousticness  danceability    duration_ms    energy  \\\n",
       "6476   Drake      0.204738      0.675475  245906.041667  0.584922   \n",
       "\n",
       "      instrumentalness  liveness  loudness  speechiness       tempo   valence  \\\n",
       "6476          0.004319   0.18873 -7.432773     0.213651  118.708009  0.386488   \n",
       "\n",
       "      popularity  key  mode  count  \n",
       "6476   61.784091    1     1    528  "
      ]
     },
     "execution_count": 1,
     "metadata": {},
     "output_type": "execute_result"
    }
   ],
   "source": [
    "import pandas as pd\n",
    "import numpy as np\n",
    "\n",
    "df = pd.read_csv('spotify_dataset/data_by_artist.csv')\n",
    "df[df['artists'] == 'Drake']"
   ]
  },
  {
   "cell_type": "code",
   "execution_count": null,
   "metadata": {},
   "outputs": [],
   "source": []
  }
 ],
 "metadata": {
  "kernelspec": {
   "display_name": "Python 3",
   "language": "python",
   "name": "python3"
  },
  "language_info": {
   "codemirror_mode": {
    "name": "ipython",
    "version": 3
   },
   "file_extension": ".py",
   "mimetype": "text/x-python",
   "name": "python",
   "nbconvert_exporter": "python",
   "pygments_lexer": "ipython3",
   "version": "3.7.4"
  }
 },
 "nbformat": 4,
 "nbformat_minor": 2
}
