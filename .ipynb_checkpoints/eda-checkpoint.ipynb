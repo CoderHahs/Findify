{
 "cells": [
  {
   "cell_type": "code",
   "execution_count": 1,
   "metadata": {},
   "outputs": [
    {
     "data": {
      "text/html": [
       "<div>\n",
       "<style scoped>\n",
       "    .dataframe tbody tr th:only-of-type {\n",
       "        vertical-align: middle;\n",
       "    }\n",
       "\n",
       "    .dataframe tbody tr th {\n",
       "        vertical-align: top;\n",
       "    }\n",
       "\n",
       "    .dataframe thead th {\n",
       "        text-align: right;\n",
       "    }\n",
       "</style>\n",
       "<table border=\"1\" class=\"dataframe\">\n",
       "  <thead>\n",
       "    <tr style=\"text-align: right;\">\n",
       "      <th></th>\n",
       "      <th>artists</th>\n",
       "      <th>acousticness</th>\n",
       "      <th>danceability</th>\n",
       "      <th>duration_ms</th>\n",
       "      <th>energy</th>\n",
       "      <th>instrumentalness</th>\n",
       "      <th>liveness</th>\n",
       "      <th>loudness</th>\n",
       "      <th>speechiness</th>\n",
       "      <th>tempo</th>\n",
       "      <th>valence</th>\n",
       "      <th>popularity</th>\n",
       "      <th>key</th>\n",
       "      <th>mode</th>\n",
       "      <th>count</th>\n",
       "    </tr>\n",
       "  </thead>\n",
       "  <tbody>\n",
       "    <tr>\n",
       "      <th>6476</th>\n",
       "      <td>Drake</td>\n",
       "      <td>0.204738</td>\n",
       "      <td>0.675475</td>\n",
       "      <td>245906.041667</td>\n",
       "      <td>0.584922</td>\n",
       "      <td>0.004319</td>\n",
       "      <td>0.18873</td>\n",
       "      <td>-7.432773</td>\n",
       "      <td>0.213651</td>\n",
       "      <td>118.708009</td>\n",
       "      <td>0.386488</td>\n",
       "      <td>61.784091</td>\n",
       "      <td>1</td>\n",
       "      <td>1</td>\n",
       "      <td>528</td>\n",
       "    </tr>\n",
       "  </tbody>\n",
       "</table>\n",
       "</div>"
      ],
      "text/plain": [
       "     artists  acousticness  danceability    duration_ms    energy  \\\n",
       "6476   Drake      0.204738      0.675475  245906.041667  0.584922   \n",
       "\n",
       "      instrumentalness  liveness  loudness  speechiness       tempo   valence  \\\n",
       "6476          0.004319   0.18873 -7.432773     0.213651  118.708009  0.386488   \n",
       "\n",
       "      popularity  key  mode  count  \n",
       "6476   61.784091    1     1    528  "
      ]
     },
     "execution_count": 1,
     "metadata": {},
     "output_type": "execute_result"
    }
   ],
   "source": [
    "import pandas as pd\n",
    "import numpy as np\n",
    "\n",
    "df = pd.read_csv('spotify_dataset/data_by_artist.csv')\n",
    "df[df['artists'] == 'Drake']"
   ]
  },
  {
   "cell_type": "code",
   "execution_count": 8,
   "metadata": {
    "tags": [
     "outputPrepend"
    ]
   },
   "outputs": [],
   "source": [
    "from faker import Faker\n",
    "local_providers = ['ar_EG', 'ar_PS', 'ar_SA', 'bg_BG', 'bs_BA', 'cs_CZ', 'de_DE', 'dk_DK', 'el_GR', 'en_AU', 'en_CA', 'en_GB', 'en_IN', 'en_NZ', 'en_US', 'es_ES', 'es_MX', 'et_EE', 'fa_IR', 'fi_FI', 'fr_FR', 'hi_IN', 'hr_HR', 'hu_HU', 'hy_AM', 'it_IT', 'ja_JP', 'ka_GE', 'ko_KR', 'lt_LT', 'lv_LV', 'ne_NP', 'nl_NL', 'no_NO', 'pl_PL', 'pt_BR', 'pt_PT', 'ro_RO', 'ru_RU', 'sl_SI', 'sv_SE', 'tr_TR', 'uk_UA', 'zh_CN', 'zh_TW']\n",
    "language = ['Arabic', 'Arabic', 'Arabic', 'Bulgarian', 'Bosnian', 'Czech', 'German', 'Danish', 'Greek', 'English', 'English', 'English', 'English', 'English', 'English', 'Spanish', 'Spanish', 'Estonian', 'Persian', 'Finnish', 'French', 'Hindi', 'Croatian', 'Hungarian', 'Armenian', 'Italian', 'Japanese', 'Georgian', 'Korean', 'Lithuanian', 'Latvian', 'Nepali', 'Dutch', 'Norwegian', 'Polish', 'Portuguese', 'Portuguese', 'Romanian', 'Russian', 'Slovene', 'Swedish', 'Turkish', 'Ukranian', 'Chinese', 'Chinese']\n",
    "country = ['Egypt', 'Palestine', 'Saudi Arabia', 'Bulgaria', 'Bosnia', 'Czech Republic', 'Germany', 'Denmark', 'Greece', 'Australia', 'Canada', 'Great Britain', 'India', 'India', 'New Zealand', 'United States', 'Spain', 'Mexico', 'Estonian', 'Iran', 'Finnish', 'French', 'Hindi', 'Croatia', 'Hungary', 'Armenia', 'Italy', 'Japan', 'Georgia', 'South Korea', 'Lithuania', 'Latvia', 'Nepal', 'Netherlands', 'Norway', 'Brazil', 'Portugal', 'Romania', 'Russia', 'Slovakia', 'Sweden', 'Turkey', 'Ukraine', 'China', 'Taiwan']\n",
    "first_names = []\n",
    "last_names = []\n",
    "full_names = []\n",
    "arr_lang = []\n",
    "lang_cd = []\n",
    "arr_country = []\n",
    "\n",
    "for i in range(len(local_providers)):\n",
    "    fake = Faker([local_providers[i]])\n",
    "    for j in range(1000):\n",
    "        name = fake.name().split(' ')\n",
    "        first_names.append(name[0])\n",
    "        if (len(name) > 1):\n",
    "            last_names.append(name[1])\n",
    "        else:\n",
    "            last_names.append('')\n",
    "        full_names.append(name)\n",
    "        arr_lang.append(language[i])\n",
    "        lang_cd.append(local_providers[i].split('_')[0])\n",
    "        arr_country.append(country[i])\n",
    "df_names = pd.DataFrame({'first_name': first_names, 'last_name': last_names, 'full_name': full_names, 'language': arr_lang, 'language_code': lang_cd,'country': arr_country})"
   ]
  },
  {
   "cell_type": "code",
   "execution_count": null,
   "metadata": {},
   "outputs": [],
   "source": [
    "df_names.to_csv('fake_names.csv')"
   ]
  },
  {
   "cell_type": "code",
   "execution_count": 5,
   "metadata": {},
   "outputs": [
    {
     "data": {
      "text/plain": [
       "'Gabriella Li'"
      ]
     },
     "execution_count": 5,
     "metadata": {},
     "output_type": "execute_result"
    }
   ],
   "source": [
    "fake = Faker([\"ar_EG\"])"
   ]
  }
 ],
 "metadata": {
  "kernelspec": {
   "display_name": "Python 3",
   "language": "python",
   "name": "python3"
  },
  "language_info": {
   "codemirror_mode": {
    "name": "ipython",
    "version": 3
   },
   "file_extension": ".py",
   "mimetype": "text/x-python",
   "name": "python",
   "nbconvert_exporter": "python",
   "pygments_lexer": "ipython3",
   "version": "3.8.1"
  }
 },
 "nbformat": 4,
 "nbformat_minor": 2
}
